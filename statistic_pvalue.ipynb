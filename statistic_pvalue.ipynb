{
 "cells": [
  {
   "cell_type": "markdown",
   "metadata": {},
   "source": [
    "# 统计量与P值的互相转换\n",
    "\n",
    "正态分布与T分布都是对称分布，都有双尾和单尾检测的说法，计算方法类似\n",
    "- scipy.stats.(t/norm)\n",
    "- pdf: 概率密度函数\n",
    "\n",
    "#### 计算统计量与P值用到的函数\n",
    "- cdf: 累计概率密度函数，用来求P值\n",
    "- sf: 1-cdf，用来求P值\n",
    "- ppf: cdf的逆函数，用来求统计量/临界值\n",
    "- isf: 1-cdf的逆函数，用来求统计量/临界值\n",
    "- interval: 置信区间\n",
    "\n",
    "| | 面积（概率值） | X轴 |\n",
    "| --- | --- | --- |\n",
    "| 真实值 | p_value(p值) | z_statistic(z统计量) |\n",
    "| 阈值 | alpha(显著性水平:significance level) | critical_value(临界值) |\n",
    "| 阈值 | 1-alpha(置信度:confidence coefficient) | critical_value(临界值) |\n",
    "| 阈值 | 双边 0.05 | 1.96 |\n",
    "| 阈值 | 单边 0.025 | 1.96 |\n",
    "| 阈值区间 | 双边 0.05 | (-1.96, 1.96) |\n",
    "\n",
    "<img src='resource/pvalue.gif' width=30%></img>"
   ]
  },
  {
   "cell_type": "code",
   "execution_count": 19,
   "metadata": {},
   "outputs": [
    {
     "name": "stdout",
     "output_type": "stream",
     "text": [
      "1.96 0.04999579029644097 0.04999579029644087 1.959963984540054 1.9599639845400545\n",
      "(-1.959963984540054, 1.959963984540054)\n",
      "(-12.706204736432095, 12.706204736432095)\n",
      "(-4.302652729911275, 4.302652729911275)\n",
      "(-2.0422724563012373, 2.0422724563012373)\n",
      "(-1.9679030112607843, 1.9679030112607843)\n"
     ]
    }
   ],
   "source": [
    "from scipy.stats import norm,t \n",
    "\n",
    "# z-statistic => p-value, 双边检测\n",
    "# 知道x轴坐标的情况，怎么求面积\n",
    "z_statistic = 1.96\n",
    "p_value_1 = 2 * (1 - norm.cdf( abs(z_statistic) ))\n",
    "p_value_2 = 2 * norm.sf( abs(z_statistic) )\n",
    "\n",
    "# p-value => z-statistic（critical value）, 双边检测\n",
    "# 知道面积的情况下，怎么获得x轴的坐标\n",
    "p_value = 0.05\n",
    "critical_value_1 = norm.ppf( 1 - abs(p_value)/2 )\n",
    "critical_value_2 = norm.isf( abs(p_value)/2 )\n",
    "\n",
    "\n",
    "print( z_statistic, p_value_1, p_value_2, critical_value_1, critical_value_2 )\n",
    "\n",
    "# 置信区间\n",
    "# dof>30的t分布近似norm分布\n",
    "print( norm.interval(0.95), t.interval(0.95, 1), t.interval(0.95, 2), t.interval(0.95, 30), t.interval(0.95, 300), sep=\"\\n\" )"
   ]
  },
  {
   "cell_type": "code",
   "execution_count": null,
   "metadata": {},
   "outputs": [],
   "source": []
  }
 ],
 "metadata": {
  "kernelspec": {
   "display_name": "base",
   "language": "python",
   "name": "python3"
  },
  "language_info": {
   "codemirror_mode": {
    "name": "ipython",
    "version": 3
   },
   "file_extension": ".py",
   "mimetype": "text/x-python",
   "name": "python",
   "nbconvert_exporter": "python",
   "pygments_lexer": "ipython3",
   "version": "3.8.5"
  },
  "orig_nbformat": 4
 },
 "nbformat": 4,
 "nbformat_minor": 2
}
